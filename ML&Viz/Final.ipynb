{
  "nbformat": 4,
  "nbformat_minor": 0,
  "metadata": {
    "colab": {
      "provenance": []
    },
    "kernelspec": {
      "name": "python3",
      "display_name": "Python 3"
    },
    "language_info": {
      "name": "python"
    }
  },
  "cells": [
    {
      "cell_type": "code",
      "execution_count": 1,
      "metadata": {
        "colab": {
          "base_uri": "https://localhost:8080/"
        },
        "id": "IiTn3NsfyU4i",
        "outputId": "ec1e8d85-4651-43f9-a7e0-6ddd787f00b8"
      },
      "outputs": [
        {
          "output_type": "stream",
          "name": "stdout",
          "text": [
            "Mounted at /content/gdrive\n"
          ]
        }
      ],
      "source": [
        "from google.colab import drive\n",
        "drive.mount(\"/content/gdrive\")"
      ]
    },
    {
      "cell_type": "code",
      "source": [
        "from pyspark.sql import SparkSession\n",
        "from pyspark.sql.functions import col\n",
        "from pyspark.ml.feature import VectorAssembler, StringIndexer, StandardScaler\n",
        "from pyspark.ml.regression import LinearRegression\n",
        "from pyspark.ml.evaluation import RegressionEvaluator\n"
      ],
      "metadata": {
        "id": "hO7hKNd6yo1J"
      },
      "execution_count": 2,
      "outputs": []
    },
    {
      "cell_type": "code",
      "source": [
        "# Initialize Spark Session\n",
        "spark = SparkSession.builder.appName(\"PremiumPrediction\").getOrCreate()\n"
      ],
      "metadata": {
        "id": "UdbxhdNAy4A8"
      },
      "execution_count": 3,
      "outputs": []
    },
    {
      "cell_type": "code",
      "source": [
        "# Load Data\n",
        "df = spark.read.csv(\"/content/gdrive/MyDrive/AC/output.csv\", header=True, inferSchema=True)\n",
        "\n"
      ],
      "metadata": {
        "id": "6-uXAA78y9RL"
      },
      "execution_count": 4,
      "outputs": []
    },
    {
      "cell_type": "code",
      "source": [
        "df.show()"
      ],
      "metadata": {
        "colab": {
          "base_uri": "https://localhost:8080/"
        },
        "id": "45Ze_5GZy96z",
        "outputId": "99aeae5c-1ef3-4030-aa7a-9f5062f7636b"
      },
      "execution_count": 5,
      "outputs": [
        {
          "output_type": "stream",
          "name": "stdout",
          "text": [
            "+---+----+------+-------------+--------------+--------------------+---------------+------------------+------------------+--------+-----------+---------------+-----------+------------+------------------+-----------------+--------------+------------------+-------------+--------------+\n",
            "| id| Age|Gender|Annual Income|Marital Status|Number of Dependents|Education Level|        Occupation|      Health Score|Location|Policy Type|Previous Claims|Vehicle Age|Credit Score|Insurance Duration|Customer Feedback|Smoking Status|Exercise Frequency|Property Type|Premium Amount|\n",
            "+---+----+------+-------------+--------------+--------------------+---------------+------------------+------------------+--------+-----------+---------------+-----------+------------+------------------+-----------------+--------------+------------------+-------------+--------------+\n",
            "|  0|19.0|Female|      10049.0|       Married|                 1.0|     Bachelor's|     Self-Employed| 22.59876067181393|   Urban|          3|            2.0|       17.0|       372.0|               5.0|                1|             0|                 3|        House|        2869.0|\n",
            "|  1|39.0|Female|      31678.0|      Divorced|                 3.0|       Master's|Unknown_Occupation|15.569730989408043|   Rural|          2|            1.0|       12.0|       694.0|               2.0|                2|             1|                 2|        House|        1483.0|\n",
            "|  2|23.0|  Male|      25602.0|      Divorced|                 3.0|    High School|     Self-Employed| 47.17754928786464|Suburban|          3|            1.0|       14.0|      592.92|               3.0|                3|             1|                 3|        House|         567.0|\n",
            "|  3|21.0|  Male|     141855.0|       Married|                 2.0|     Bachelor's|Unknown_Occupation|10.938144158664583|   Rural|          1|            1.0|        0.0|       367.0|               1.0|                1|             1|                 4|    Apartment|         765.0|\n",
            "|  4|21.0|  Male|      39651.0|        Single|                 1.0|     Bachelor's|     Self-Employed|20.376093627736925|   Rural|          3|            0.0|        8.0|       598.0|               4.0|                1|             1|                 3|        House|        2022.0|\n",
            "|  5|29.0|  Male|      45963.0|       Married|                 1.0|     Bachelor's|Unknown_Occupation| 33.05319768402281|   Urban|          3|            2.0|        4.0|       614.0|               5.0|                2|             0|                 3|        House|        3202.0|\n",
            "|  6|41.0|  Male|      40336.0|       Married|                 0.0|            PhD|Unknown_Occupation|             25.61|   Rural|          1|            2.0|        8.0|       807.0|               6.0|                1|             0|                 3|        House|         439.0|\n",
            "|  7|48.0|Female|     127237.0|      Divorced|                 2.0|    High School|          Employed| 5.769783092512088|Suburban|          2|            1.0|       11.0|       398.0|               5.0|                2|             0|                 1|        Condo|         111.0|\n",
            "|  8|21.0|  Male|       1733.0|      Divorced|                 3.0|     Bachelor's|Unknown_Occupation|17.869550814826297|   Urban|          3|            1.0|       10.0|       685.0|               8.0|                2|             0|                 2|        Condo|         213.0|\n",
            "|  9|44.0|  Male|      52447.0|       Married|                 2.0|       Master's|          Employed| 20.47371785695596|   Urban|          2|            1.0|        9.0|       635.0|               3.0|                1|             0|                 4|        Condo|          64.0|\n",
            "| 10|56.0|Female|       8054.0|       Married|                 1.0|     Bachelor's|        Unemployed|             25.61|   Rural|          3|            1.0|        8.0|       431.0|               8.0|                2|             0|                 2|        Condo|         857.0|\n",
            "| 11|23.0|  Male|      30983.0|        Single|                 3.0|       Master's|Unknown_Occupation| 5.813128940949042|   Urban|          3|            0.0|        6.0|       597.0|               8.0|                3|             0|                 1|        Condo|        1447.0|\n",
            "| 12|25.0|Female|      23706.0|        Single|                 4.0|       Master's|          Employed| 4.090538023921365|   Urban|          2|            2.0|       19.0|      592.92|               2.0|                1|             1|                 3|    Apartment|         703.0|\n",
            "| 13|44.0|Female|      70893.0|        Single|                 0.0|     Bachelor's|Unknown_Occupation| 55.89632239159919|Suburban|          3|            0.0|        3.0|       511.0|               6.0|                3|             1|                 3|        House|        1847.0|\n",
            "| 14|40.0|Female|      23897.0|      Divorced|                 0.0|    High School|     Self-Employed| 29.08203615642357|Suburban|          1|            2.0|       15.0|       498.0|               1.0|                3|             0|                 1|        Condo|          30.0|\n",
            "| 15|18.0|  Male|       6076.0|       Married|                 2.0|    High School|          Employed| 7.442964015746718|   Urban|          3|            1.0|       12.0|       584.0|               5.0|                3|             1|                 2|    Apartment|         849.0|\n",
            "| 16|59.0|Female|      28266.0|      Divorced|                 2.0|            PhD|        Unemployed| 21.67346054211263|   Urban|          1|            0.0|       16.0|      592.92|               3.0|                2|             1|                 3|        Condo|         183.0|\n",
            "| 17|34.0|Female|      45907.0|      Divorced|                 4.0|    High School|     Self-Employed|  24.0596387644636|Suburban|          2|            0.0|        0.0|       694.0|               8.0|                1|             1|                 4|        Condo|         643.0|\n",
            "| 18|18.0|  Male|      29071.0|       Married|                 0.0|     Bachelor's|          Employed|  20.8389765352726|   Rural|          3|            1.0|        5.0|      592.92|               3.0|                1|             1|                 1|    Apartment|         787.0|\n",
            "| 19|40.0|Female|     123751.0|        Single|                 2.0|       Master's|     Self-Employed| 24.95531647911226|Suburban|          3|            0.0|        8.0|       420.0|               2.0|                3|             1|                 1|        Condo|          40.0|\n",
            "+---+----+------+-------------+--------------+--------------------+---------------+------------------+------------------+--------+-----------+---------------+-----------+------------+------------------+-----------------+--------------+------------------+-------------+--------------+\n",
            "only showing top 20 rows\n",
            "\n"
          ]
        }
      ]
    },
    {
      "cell_type": "code",
      "source": [
        "from pyspark.sql.functions import col, sum\n",
        "\n",
        "# Total row count\n",
        "total_rows = df.count()\n",
        "\n",
        "# Calculate missing value percentage for each column\n",
        "missing_values = []\n",
        "for c in df.columns:\n",
        "    missing_count = df.select(sum(col(c).isNull().cast(\"int\"))).collect()[0][0]\n",
        "    missing_percentage = (missing_count / total_rows) * 100\n",
        "    missing_values.append((c, missing_percentage))\n",
        "\n",
        "# Print the results as a list\n",
        "missing_values_sorted = sorted(missing_values, key=lambda x: x[1], reverse=True)  # Sort by highest missing %\n",
        "for col_name, perc in missing_values_sorted:\n",
        "    print(f\"Column: {col_name}, Missing: {perc:.2f}%\")\n"
      ],
      "metadata": {
        "colab": {
          "base_uri": "https://localhost:8080/"
        },
        "id": "y3gaOaEEzQ7u",
        "outputId": "568fe2d6-5665-453c-934a-516f5d7b73ba"
      },
      "execution_count": 6,
      "outputs": [
        {
          "output_type": "stream",
          "name": "stdout",
          "text": [
            "Column: id, Missing: 0.00%\n",
            "Column: Age, Missing: 0.00%\n",
            "Column: Gender, Missing: 0.00%\n",
            "Column: Annual Income, Missing: 0.00%\n",
            "Column: Marital Status, Missing: 0.00%\n",
            "Column: Number of Dependents, Missing: 0.00%\n",
            "Column: Education Level, Missing: 0.00%\n",
            "Column: Occupation, Missing: 0.00%\n",
            "Column: Health Score, Missing: 0.00%\n",
            "Column: Location, Missing: 0.00%\n",
            "Column: Policy Type, Missing: 0.00%\n",
            "Column: Previous Claims, Missing: 0.00%\n",
            "Column: Vehicle Age, Missing: 0.00%\n",
            "Column: Credit Score, Missing: 0.00%\n",
            "Column: Insurance Duration, Missing: 0.00%\n",
            "Column: Customer Feedback, Missing: 0.00%\n",
            "Column: Smoking Status, Missing: 0.00%\n",
            "Column: Exercise Frequency, Missing: 0.00%\n",
            "Column: Property Type, Missing: 0.00%\n",
            "Column: Premium Amount, Missing: 0.00%\n"
          ]
        }
      ]
    },
    {
      "cell_type": "code",
      "source": [
        "# Drop rows with missing target values\n",
        "df = df.dropna(subset=[\"Premium Amount\"])"
      ],
      "metadata": {
        "id": "cRYSv9402019"
      },
      "execution_count": 7,
      "outputs": []
    },
    {
      "cell_type": "code",
      "source": [
        "from pyspark.sql.functions import col, mean\n",
        "\n",
        "# 2️⃣ Impute numeric columns with mean\n",
        "numeric_cols = [\"Credit Score\", \"Number of Dependents\", \"Health Score\", \"Annual Income\", \"Age\"]\n",
        "for col_name in numeric_cols:\n",
        "    mean_value = df.select(mean(col(col_name))).collect()[0][0]\n",
        "    df = df.fillna({col_name: mean_value})\n",
        "\n",
        "# 1️⃣ Fill \"Previous Claims\" with 0\n",
        "df = df.fillna({'Previous Claims': 0})\n"
      ],
      "metadata": {
        "id": "aeO0LfoC0S_T"
      },
      "execution_count": 8,
      "outputs": []
    },
    {
      "cell_type": "code",
      "source": [
        "# Impute categorical columns with mode (most frequent value)\n",
        "categorical_cols = [\"Customer Feedback\", \"Marital Status\"]\n",
        "for col_name in categorical_cols:\n",
        "    mode_value = df.groupBy(col_name).count().orderBy(col(\"count\").desc()).first()[0]\n",
        "    df = df.fillna({col_name: mode_value})"
      ],
      "metadata": {
        "id": "uvHhxk4X1FN_"
      },
      "execution_count": 9,
      "outputs": []
    },
    {
      "cell_type": "code",
      "source": [
        "df = df.dropna(subset=[\"Occupation\"])"
      ],
      "metadata": {
        "id": "LJ532CiF3_CY"
      },
      "execution_count": 10,
      "outputs": []
    },
    {
      "cell_type": "code",
      "source": [
        "from pyspark.sql.functions import col, sum\n",
        "\n",
        "# Total row count\n",
        "total_rows = df.count()\n",
        "\n",
        "# Calculate missing value percentage for each column\n",
        "missing_values = []\n",
        "for c in df.columns:\n",
        "    missing_count = df.select(sum(col(c).isNull().cast(\"int\"))).collect()[0][0]\n",
        "    missing_percentage = (missing_count / total_rows) * 100\n",
        "    missing_values.append((c, missing_percentage))\n",
        "\n",
        "# Print the results as a list\n",
        "missing_values_sorted = sorted(missing_values, key=lambda x: x[1], reverse=True)  # Sort by highest missing %\n",
        "for col_name, perc in missing_values_sorted:\n",
        "    print(f\"Column: {col_name}, Missing: {perc:.2f}%\")"
      ],
      "metadata": {
        "colab": {
          "base_uri": "https://localhost:8080/"
        },
        "id": "pd4jzfV73Fcg",
        "outputId": "77ae745f-5b75-49a1-9845-3080fbd3aa00"
      },
      "execution_count": 11,
      "outputs": [
        {
          "output_type": "stream",
          "name": "stdout",
          "text": [
            "Column: id, Missing: 0.00%\n",
            "Column: Age, Missing: 0.00%\n",
            "Column: Gender, Missing: 0.00%\n",
            "Column: Annual Income, Missing: 0.00%\n",
            "Column: Marital Status, Missing: 0.00%\n",
            "Column: Number of Dependents, Missing: 0.00%\n",
            "Column: Education Level, Missing: 0.00%\n",
            "Column: Occupation, Missing: 0.00%\n",
            "Column: Health Score, Missing: 0.00%\n",
            "Column: Location, Missing: 0.00%\n",
            "Column: Policy Type, Missing: 0.00%\n",
            "Column: Previous Claims, Missing: 0.00%\n",
            "Column: Vehicle Age, Missing: 0.00%\n",
            "Column: Credit Score, Missing: 0.00%\n",
            "Column: Insurance Duration, Missing: 0.00%\n",
            "Column: Customer Feedback, Missing: 0.00%\n",
            "Column: Smoking Status, Missing: 0.00%\n",
            "Column: Exercise Frequency, Missing: 0.00%\n",
            "Column: Property Type, Missing: 0.00%\n",
            "Column: Premium Amount, Missing: 0.00%\n"
          ]
        }
      ]
    },
    {
      "cell_type": "code",
      "source": [
        "# Identify categorical and numerical features\n",
        "categorical_cols = [col_name for col_name, dtype in df.dtypes if dtype == \"string\"]\n",
        "numerical_cols = [col_name for col_name, dtype in df.dtypes if dtype in [\"int\", \"double\"] and col_name != \"Premium Amount\"]"
      ],
      "metadata": {
        "id": "riwfVRBR1PYs"
      },
      "execution_count": 12,
      "outputs": []
    },
    {
      "cell_type": "code",
      "source": [
        "# Identify categorical and numerical features\n",
        "categorical_cols = [col_name for col_name, dtype in df.dtypes if dtype == \"string\"]\n",
        "numerical_cols = [col_name for col_name, dtype in df.dtypes if dtype in [\"int\", \"double\"] and col_name != \"Premium Amount\"]\n"
      ],
      "metadata": {
        "id": "scti3-A61b2j"
      },
      "execution_count": 13,
      "outputs": []
    },
    {
      "cell_type": "code",
      "source": [
        "# Encode categorical features\n",
        "for col_name in categorical_cols:\n",
        "    indexer = StringIndexer(inputCol=col_name, outputCol=f\"{col_name}_index\", handleInvalid=\"keep\")\n",
        "    df = indexer.fit(df).transform(df)\n"
      ],
      "metadata": {
        "id": "VJ5cyspH1cvj"
      },
      "execution_count": 14,
      "outputs": []
    },
    {
      "cell_type": "code",
      "source": [
        "# Assemble features\n",
        "feature_cols = [f\"{col}_index\" for col in categorical_cols] + numerical_cols\n",
        "vector_assembler = VectorAssembler(inputCols=feature_cols, outputCol=\"features\", handleInvalid=\"skip\")\n",
        "df = vector_assembler.transform(df)"
      ],
      "metadata": {
        "id": "t1WW5WAz1fVV"
      },
      "execution_count": 15,
      "outputs": []
    },
    {
      "cell_type": "code",
      "source": [
        "# Train-test split\n",
        "train_data, test_data = df.randomSplit([0.8, 0.2], seed=42)"
      ],
      "metadata": {
        "id": "LORh-Cnn2DuA"
      },
      "execution_count": 16,
      "outputs": []
    },
    {
      "cell_type": "code",
      "source": [
        "# Verify if label column is numeric\n",
        "train_data.select(\"Premium Amount\").summary().show()\n"
      ],
      "metadata": {
        "colab": {
          "base_uri": "https://localhost:8080/"
        },
        "id": "v_Def7CN7ZdF",
        "outputId": "c519cb79-98a7-4d88-cc99-e4784c9110af"
      },
      "execution_count": 17,
      "outputs": [
        {
          "output_type": "stream",
          "name": "stdout",
          "text": [
            "+-------+-----------------+\n",
            "|summary|   Premium Amount|\n",
            "+-------+-----------------+\n",
            "|  count|           960101|\n",
            "|   mean|1102.025160894531|\n",
            "| stddev|864.4544253192232|\n",
            "|    min|             20.0|\n",
            "|    25%|            514.0|\n",
            "|    50%|            872.0|\n",
            "|    75%|           1508.0|\n",
            "|    max|           4999.0|\n",
            "+-------+-----------------+\n",
            "\n"
          ]
        }
      ]
    },
    {
      "cell_type": "code",
      "source": [
        "# Train Model\n",
        "lr = LinearRegression(featuresCol=\"features\", labelCol=\"Premium Amount\")\n",
        "lr_model = lr.fit(train_data)"
      ],
      "metadata": {
        "id": "mVxJXOMN2LBt"
      },
      "execution_count": 18,
      "outputs": []
    },
    {
      "cell_type": "code",
      "source": [
        "# Predictions\n",
        "predictions = lr_model.transform(test_data)\n"
      ],
      "metadata": {
        "id": "TM7ZqIrL6R1I"
      },
      "execution_count": 19,
      "outputs": []
    },
    {
      "cell_type": "code",
      "source": [
        "from pyspark.sql.functions import col, abs as F_abs\n",
        "from pyspark.sql import functions as F\n",
        "# Evaluate Model\n",
        "evaluator = RegressionEvaluator(labelCol=\"Premium Amount\", predictionCol=\"prediction\", metricName=\"rmse\")\n",
        "rmse = evaluator.evaluate(predictions)\n",
        "\n",
        "mae_evaluator = RegressionEvaluator(labelCol=\"Premium Amount\", predictionCol=\"prediction\", metricName=\"mae\")\n",
        "mae = mae_evaluator.evaluate(predictions)\n",
        "\n",
        "r2_evaluator = RegressionEvaluator(labelCol=\"Premium Amount\", predictionCol=\"prediction\", metricName=\"r2\")\n",
        "r2 = r2_evaluator.evaluate(predictions)\n",
        "\n",
        "# Compute Accuracy\n",
        "def compute_accuracy(predictions):\n",
        "    # Compute error as the absolute difference between predicted and actual premium amount\n",
        "    predictions = predictions.withColumn(\"error\", F.abs((F.col(\"prediction\") - F.col(\"Premium Amount\")) / F.col(\"Premium Amount\")))\n",
        "\n",
        "    # Calculate accuracy as the proportion of predictions with error <= 10%\n",
        "    accuracy = predictions.filter(F.col(\"error\") <= 0.1).count() / predictions.count()\n",
        "    return accuracy\n",
        "\n",
        "# Assuming 'predictions' is the DataFrame that contains the predicted and actual values\n",
        "accuracy = compute_accuracy(predictions)\n",
        "\n",
        "\n",
        "print(f\"✅ Root Mean Squared Error (RMSE): {rmse:.4f}\")\n",
        "print(f\"✅ Mean Absolute Error (MAE): {mae:.4f}\")\n",
        "print(f\"✅ R-squared (R2): {r2:.4f}\")\n",
        "print(f\"✅ Accuracy: {accuracy:.4f}\")\n",
        "\n"
      ],
      "metadata": {
        "colab": {
          "base_uri": "https://localhost:8080/"
        },
        "id": "nCZbU3PK8F9T",
        "outputId": "c1c67216-9225-4c32-8852-588806b67d42"
      },
      "execution_count": 20,
      "outputs": [
        {
          "output_type": "stream",
          "name": "stdout",
          "text": [
            "✅ Root Mean Squared Error (RMSE): 865.3881\n",
            "✅ Mean Absolute Error (MAE): 668.3908\n",
            "✅ R-squared (R2): 0.0041\n",
            "✅ Accuracy: 0.0925\n"
          ]
        }
      ]
    },
    {
      "cell_type": "code",
      "source": [
        "print(f\"Model Accuracy: {accuracy * 100:.2f}%\")"
      ],
      "metadata": {
        "colab": {
          "base_uri": "https://localhost:8080/"
        },
        "id": "fBgR_D248Hhj",
        "outputId": "88e7014b-81dc-470b-a37a-8d568bfb7f1c"
      },
      "execution_count": 21,
      "outputs": [
        {
          "output_type": "stream",
          "name": "stdout",
          "text": [
            "Model Accuracy: 9.25%\n"
          ]
        }
      ]
    }
  ]
}